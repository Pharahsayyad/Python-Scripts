{
 "cells": [
  {
   "cell_type": "code",
   "execution_count": 1,
   "id": "dfcba74a",
   "metadata": {},
   "outputs": [
    {
     "name": "stdout",
     "output_type": "stream",
     "text": [
      "list sorted by price\n",
      "[{'item': 'Tv', 'price': 30000}, {'item': 'AC', 'price': 35000}, {'item': 'Refridgerator', 'price': 36000}]\n",
      "list sorted by name\n",
      "[{'item': 'AC', 'price': 35000}, {'item': 'Refridgerator', 'price': 36000}, {'item': 'Tv', 'price': 30000}]\n",
      "List sorted in desendig order\n",
      "[{'item': 'Refridgerator', 'price': 36000}, {'item': 'AC', 'price': 35000}, {'item': 'Tv', 'price': 30000}]\n",
      "sort list using itemgetter method\n",
      "[{'item': 'Tv', 'price': 30000}, {'item': 'AC', 'price': 35000}, {'item': 'Refridgerator', 'price': 36000}]\n"
     ]
    }
   ],
   "source": [
    "#1.list of dictionary sorted by price\n",
    "from operator import itemgetter\n",
    "lis=[{'item':'Tv','price':30000},\n",
    "   {'item':'AC','price':35000},\n",
    "    {'item':'Refridgerator','price':36000}]\n",
    "\n",
    "print(\"list sorted by price\")\n",
    "print(sorted(lis,key=lambda i:i['price'],))\n",
    "\n",
    "\n",
    "print(\"list sorted by name\")\n",
    "print(sorted(lis,key=lambda i:i['item']))\n",
    "\n",
    "print(\"List sorted in desendig order\")\n",
    "print(sorted(lis,key=lambda i:i['price'],reverse=True))\n",
    "\n",
    "print(\"sort list using itemgetter method\")\n",
    "print(sorted(lis,key=itemgetter('price')))\n",
    "\n",
    "\n"
   ]
  },
  {
   "cell_type": "code",
   "execution_count": 2,
   "id": "0ed1bd60",
   "metadata": {},
   "outputs": [
    {
     "name": "stdout",
     "output_type": "stream",
     "text": [
      "list1 [1, 2, 3, 4, 5]\n",
      "list2 [6, 7, 8, 9, 10]\n",
      "list3 [11, 12, 13, 14, 15]\n",
      "Combined list is [1, 2, 3, 4, 5, 6, 7, 8, 9, 10, 11, 12, 13, 14, 15]\n",
      "Combined list is[1, 2, 3, 4, 5, 6, 7, 8, 9, 10, 11, 12, 13, 14, 15]\n"
     ]
    }
   ],
   "source": [
    "#2.convert multiple list into single list\n",
    "from itertools import chain\n",
    "list1=[1,2,3,4,5]\n",
    "list2=[6,7,8,9,10]\n",
    "list3=[11,12,13,14,15]\n",
    "\n",
    "print(\"list1\",list1)\n",
    "print(\"list2\",list2)\n",
    "print(\"list3\",list3)\n",
    "#using + operator\n",
    "list_1=list1+list2+list3\n",
    "\n",
    "print(\"Combined list is\",list_1)\n",
    "\n",
    "#using itertools.chain function\n",
    "result_list=[]\n",
    "result_list=list(chain(list1,list2,list3))\n",
    "print(\"Combined list is\"+ str(result_list))"
   ]
  },
  {
   "cell_type": "code",
   "execution_count": 3,
   "id": "cbf60fde",
   "metadata": {},
   "outputs": [],
   "source": [
    "# 3.find even and odd numbers in list and sum of element\n",
    "\n",
    "def Splitoddeven(A):\n",
    "    evenlist=[]\n",
    "    oddlist=[]\n",
    "    for i in A:\n",
    "        if i%2==0:\n",
    "            evenlist.append(i)\n",
    "            \n",
    "        else:\n",
    "            oddlist.append(i)\n",
    "    print(\"Even list\",evenlist)\n",
    "    print(\"Sum of even list\",sum(evenlist))\n",
    "    print(\"Odd list\",oddlist)\n",
    "    print(\"Sum of odd list\",sum(oddlist))"
   ]
  },
  {
   "cell_type": "code",
   "execution_count": 4,
   "id": "5874bf19",
   "metadata": {},
   "outputs": [
    {
     "name": "stdout",
     "output_type": "stream",
     "text": [
      "Enter the size of list5\n",
      "Enter numbers in list\n",
      "1\n",
      "2\n",
      "3\n",
      "4\n",
      "5\n",
      "given list is [1, 2, 3, 4, 5]\n",
      "Sum of element in list 15\n",
      "Sum of element in list 15\n",
      "Even list [2, 4]\n",
      "Sum of even list 6\n",
      "Odd list [1, 3, 5]\n",
      "Sum of odd list 9\n"
     ]
    }
   ],
   "source": [
    "A=[]\n",
    "sumlist=0\n",
    "n=int(input(\"Enter the size of list\"))\n",
    "print(\"Enter numbers in list\")\n",
    "for i in range(n):\n",
    "    k=int(input(\"\"))\n",
    "    A.append(k)\n",
    "    sumlist=sumlist+k\n",
    "print(\"given list is\",A)\n",
    "print(\"Sum of element in list\",sumlist)\n",
    "#sum of element using sum method\n",
    "sum_list=sum(A)\n",
    "print(\"Sum of element in list\",sum_list)\n",
    "Splitoddeven(A)"
   ]
  },
  {
   "cell_type": "code",
   "execution_count": 69,
   "id": "9b7e5071",
   "metadata": {},
   "outputs": [],
   "source": [
    "#4.Expecting function to find the number divisible by 7 but not multiple of 5 between 2000 and 2010\n",
    "def CustomFun():\n",
    "    for i in range(2000,2021):\n",
    "        if(i%7==0 and i%5 != 0):\n",
    "            print(i,\",\")\n",
    "       \n",
    "            \n",
    "    "
   ]
  },
  {
   "cell_type": "code",
   "execution_count": 70,
   "id": "2c2b4551",
   "metadata": {},
   "outputs": [
    {
     "name": "stdout",
     "output_type": "stream",
     "text": [
      "2002 ,\n",
      "2009 ,\n",
      "2016 ,\n"
     ]
    }
   ],
   "source": [
    "CustomFun()"
   ]
  },
  {
   "cell_type": "code",
   "execution_count": 7,
   "id": "3926891d",
   "metadata": {},
   "outputs": [
    {
     "name": "stdout",
     "output_type": "stream",
     "text": [
      "{'name': 'farah', 'Age': 32, 'salary': 50000}\n"
     ]
    }
   ],
   "source": [
    "#5.variable to dictionary\n",
    "dict={}\n",
    "name=\"farah\"\n",
    "Age=32\n",
    "salary=50000\n",
    "\n",
    "for i in ['name','Age','salary']:\n",
    "    dict[i]=eval(i)\n",
    "    \n",
    "print(dict)\n"
   ]
  },
  {
   "cell_type": "code",
   "execution_count": 8,
   "id": "ed64cf2e",
   "metadata": {},
   "outputs": [
    {
     "name": "stdout",
     "output_type": "stream",
     "text": [
      "* \n",
      "* * \n",
      "* * * \n",
      "* * * * \n",
      "* * * * * \n"
     ]
    }
   ],
   "source": [
    "#write code for Pattern\n",
    "\n",
    "for i in range(5):\n",
    "    for j in range(i+1):\n",
    "        print('*', end=\" \")\n",
    "    print(\"\")\n",
    "      "
   ]
  },
  {
   "cell_type": "code",
   "execution_count": 9,
   "id": "acef67a9",
   "metadata": {},
   "outputs": [
    {
     "name": "stdout",
     "output_type": "stream",
     "text": [
      "* * * * * \n",
      "* * * * \n",
      "* * * \n",
      "* * \n",
      "* \n"
     ]
    }
   ],
   "source": [
    "#write code for Pattern\n",
    "\n",
    "for i in range(5,0,-1):\n",
    "    for j in range(0,i):\n",
    "        print(\"*\",end=\" \")\n",
    "    print(\"\")\n",
    "    "
   ]
  },
  {
   "cell_type": "code",
   "execution_count": 10,
   "id": "3bac1ebf",
   "metadata": {},
   "outputs": [
    {
     "name": "stdout",
     "output_type": "stream",
     "text": [
      "A\n",
      "AB\n",
      "ABC\n",
      "ABCD\n",
      "ABCDE\n"
     ]
    }
   ],
   "source": [
    "#write code for Pattern\n",
    "\n",
    "asci_value=65\n",
    "for i in range(5):\n",
    "    for j in range(i+1):\n",
    "        print(chr(asci_value),end=\"\")\n",
    "        asci_value+=1\n",
    "    print(\"\")\n",
    "    #asci_value+=1\n",
    "    asci_value=65\n"
   ]
  },
  {
   "cell_type": "code",
   "execution_count": 11,
   "id": "c90e4451",
   "metadata": {},
   "outputs": [
    {
     "name": "stdout",
     "output_type": "stream",
     "text": [
      "{'Mon': 3, 'Tue': 6, 'Wed': 5}\n"
     ]
    }
   ],
   "source": [
    "#convert 2 list into Dictionary\n",
    "\n",
    "dict={}\n",
    "listK = [\"Mon\", \"Tue\", \"Wed\"]\n",
    "listV = [3, 6, 5]\n",
    "#using dictionary comprehension\n",
    "res={listK[i]:listV[i] for i in range(len(listK)) }\n",
    "\n",
    "\n",
    "for key in listK:\n",
    "    for value in listV:\n",
    "        dict[key]=value\n",
    "        listV.remove(value)\n",
    "        break\n",
    "        \n",
    "print(dict)\n",
    "        "
   ]
  },
  {
   "cell_type": "code",
   "execution_count": 12,
   "id": "5aa2d188",
   "metadata": {},
   "outputs": [
    {
     "data": {
      "text/plain": [
       "{'Mon': 3, 'Tue': 6, 'Wed': 5}"
      ]
     },
     "execution_count": 12,
     "metadata": {},
     "output_type": "execute_result"
    }
   ],
   "source": [
    "res"
   ]
  },
  {
   "cell_type": "code",
   "execution_count": 13,
   "id": "21737172",
   "metadata": {},
   "outputs": [
    {
     "name": "stdout",
     "output_type": "stream",
     "text": [
      "Given List is [12, 15, 11, 12, 8, 15, 3, 3]\n",
      "List without duplicate element is [12, 15, 11, 8, 3]\n",
      "List without duplicate element is [12, 15, 11, 8, 3]\n"
     ]
    },
    {
     "data": {
      "text/plain": [
       "{12: 2, 15: 2, 11: 1, 8: 1, 3: 2}"
      ]
     },
     "execution_count": 13,
     "metadata": {},
     "output_type": "execute_result"
    }
   ],
   "source": [
    "#remove duplicate element from list\n",
    "\n",
    "list_value1=[12,15,11,12,8,15,3,3] \n",
    "print(\"Given List is\",list_value1)\n",
    "res_list=[]\n",
    "res_list1=[]\n",
    "for i in list_value1:\n",
    "    if i not in res_list:\n",
    "        res_list.append(i)\n",
    "        \n",
    "print(\"List without duplicate element is\",res_list)\n",
    "\n",
    "\n",
    "#using List comprehension\n",
    "[res_list1.append(i) for i in list_value1 if i not in res_list1]\n",
    "print(\"List without duplicate element is\",res_list1)\n",
    "\n",
    "#count numbers in list\n",
    "{i:list_value1.count(i) for i in list_value1}"
   ]
  },
  {
   "cell_type": "code",
   "execution_count": 14,
   "id": "79826348",
   "metadata": {},
   "outputs": [
    {
     "data": {
      "text/plain": [
       "{'p': 1, 'h': 2, 'a': 2, 'r': 1}"
      ]
     },
     "execution_count": 14,
     "metadata": {},
     "output_type": "execute_result"
    }
   ],
   "source": [
    "str1=\"pharah\"\n",
    "{i:str1.count(i) for i in str1}"
   ]
  },
  {
   "cell_type": "code",
   "execution_count": 15,
   "id": "21f8b4b8",
   "metadata": {},
   "outputs": [
    {
     "name": "stdout",
     "output_type": "stream",
     "text": [
      "{'name': 'Farah', 'Age': 30, 'Salary': 50000}\n",
      "After swaping key value\n",
      "{'Farah': 'name', 30: 'Age', 50000: 'Salary'}\n"
     ]
    }
   ],
   "source": [
    "# change key to value in dictionary\n",
    "\n",
    "dict={'name':'Farah','Age':30,'Salary':50000}\n",
    "\n",
    "dict1={value:key for key,value in dict.items()}\n",
    "print(dict)\n",
    "print(\"After swaping key value\")\n",
    "print(dict1)"
   ]
  },
  {
   "cell_type": "code",
   "execution_count": 16,
   "id": "66166581",
   "metadata": {},
   "outputs": [
    {
     "name": "stdout",
     "output_type": "stream",
     "text": [
      "name : Farah\n",
      "Age : 30\n",
      "Salary : 50000\n"
     ]
    }
   ],
   "source": [
    "#read Dictionary\n",
    "dict={'name':'Farah','Age':30,'Salary':50000}\n",
    "\n",
    "dict={key:value for key,value in dict.items()}\n",
    "\n",
    "#using for loop\n",
    "\n",
    "for key in dict:\n",
    "    print(key ,\":\",dict[key])\n"
   ]
  },
  {
   "cell_type": "code",
   "execution_count": 17,
   "id": "f040cb0b",
   "metadata": {},
   "outputs": [
    {
     "name": "stdout",
     "output_type": "stream",
     "text": [
      "['a', 'b', 'c']\n"
     ]
    }
   ],
   "source": [
    "str=\"abcd\"\n",
    "\n",
    "lis=[]\n",
    "\n",
    "for i in range(len(str)-1):\n",
    "    lis.append(str[i])\n",
    "print(lis)"
   ]
  },
  {
   "cell_type": "code",
   "execution_count": 18,
   "id": "8c8c0898",
   "metadata": {},
   "outputs": [
    {
     "name": "stdout",
     "output_type": "stream",
     "text": [
      "{3, 6, 8, 12, 18, 29}\n",
      "[3, 6, 8, 12, 18, 29]\n",
      "Second smallest element is: 6\n"
     ]
    }
   ],
   "source": [
    "#find second smallest element\n",
    "\n",
    "no_list=[12,3,6,18,29,3,8]\n",
    "#for\n",
    "no_set=set(no_list)\n",
    "print(no_set)\n",
    "sort_list=sorted(no_set)\n",
    "print(sort_list)\n",
    "print(\"Second smallest element is:\",sort_list[1])\n",
    "\n"
   ]
  },
  {
   "cell_type": "code",
   "execution_count": 19,
   "id": "ebcd186b",
   "metadata": {},
   "outputs": [
    {
     "name": "stdout",
     "output_type": "stream",
     "text": [
      "['24']\n",
      "['24', '56']\n",
      "['24', '56', '78']\n",
      "['24', '56', '78', '9#']\n",
      "['24', '56', '78', '9#', '#3']\n"
     ]
    }
   ],
   "source": [
    "#expected output 2 digit num in list\n",
    "str=\"2456789##3\"\n",
    "lis=[]\n",
    "for i in range(0,len(str),2):\n",
    "    lis.append(str[i:i+2])\n",
    "\n",
    "    print(lis)    "
   ]
  },
  {
   "cell_type": "code",
   "execution_count": 20,
   "id": "9ed669b4",
   "metadata": {},
   "outputs": [
    {
     "name": "stdout",
     "output_type": "stream",
     "text": [
      "['17', '20', '21']\n"
     ]
    },
    {
     "data": {
      "text/plain": [
       "['17', '20', '21']"
      ]
     },
     "execution_count": 20,
     "metadata": {},
     "output_type": "execute_result"
    }
   ],
   "source": [
    "#print only numbers from list\n",
    "p=  ['python@17','java@20','Hadoop@21']    \n",
    "\n",
    "lis1=[]\n",
    "\n",
    "for i in p:\n",
    "     lis1.append(i.split('@')[1])\n",
    "print(lis1)\n",
    "\n",
    "#using map and lambda\n",
    "\n",
    "lis_1=list(map(lambda x:x.split('@')[1],p))\n",
    "lis_1"
   ]
  },
  {
   "cell_type": "code",
   "execution_count": 21,
   "id": "b5da8c87",
   "metadata": {},
   "outputs": [
    {
     "name": "stdout",
     "output_type": "stream",
     "text": [
      "[29, 3, 8]\n"
     ]
    }
   ],
   "source": [
    "#last two number of list\n",
    "no_list=[12,3,6,18,29,3,8]\n",
    "\n",
    "print(no_list[-3:])"
   ]
  },
  {
   "cell_type": "code",
   "execution_count": 22,
   "id": "80c12a1f",
   "metadata": {},
   "outputs": [
    {
     "data": {
      "text/plain": [
       "['Farah', 30, 50000]"
      ]
     },
     "execution_count": 22,
     "metadata": {},
     "output_type": "execute_result"
    }
   ],
   "source": [
    "#get values of dict\n",
    "dict={'name':'Farah','Age':30,'Salary':50000}\n",
    "\n",
    "res=list(dict.values())\n",
    "res"
   ]
  },
  {
   "cell_type": "code",
   "execution_count": 23,
   "id": "3c623b0b",
   "metadata": {},
   "outputs": [
    {
     "name": "stdout",
     "output_type": "stream",
     "text": [
      "Enter numbers5\n",
      "*\n",
      "**\n",
      "***\n",
      "****\n",
      "*****\n"
     ]
    }
   ],
   "source": [
    "#pattern\n",
    "\n",
    "n=int(input(\"Enter numbers\"))\n",
    "for i in range(1,n+1):\n",
    "    print(\"*\"*i)"
   ]
  },
  {
   "cell_type": "code",
   "execution_count": 24,
   "id": "101f38fa",
   "metadata": {},
   "outputs": [
    {
     "name": "stdout",
     "output_type": "stream",
     "text": [
      "Enter numbers5\n",
      "     *\n",
      "    **\n",
      "   ***\n",
      "  ****\n",
      " *****\n"
     ]
    }
   ],
   "source": [
    "n=int(input(\"Enter numbers\"))\n",
    "for i in range(1,n+1):\n",
    "    print(\" \"*(n-i),end=\" \")\n",
    "    print(\"*\"*i)"
   ]
  },
  {
   "cell_type": "code",
   "execution_count": null,
   "id": "ac165333",
   "metadata": {},
   "outputs": [],
   "source": []
  },
  {
   "cell_type": "code",
   "execution_count": 25,
   "id": "5b3036cd",
   "metadata": {},
   "outputs": [
    {
     "name": "stdout",
     "output_type": "stream",
     "text": [
      "{'a': 1, 'b': 2, 'c': 3, 'd': 4}\n"
     ]
    }
   ],
   "source": [
    "#MERGE TWO dICTIONARY\n",
    "\n",
    "x={'a':1,'b':2}\n",
    "y={'c':3,'d':4}\n",
    "z={**x,**y}\n",
    "print(z)"
   ]
  },
  {
   "cell_type": "code",
   "execution_count": 26,
   "id": "ee079fe4",
   "metadata": {},
   "outputs": [
    {
     "name": "stdout",
     "output_type": "stream",
     "text": [
      "['__doc__', '__loader__', '__name__', '__package__', '__spec__', 'acos', 'acosh', 'asin', 'asinh', 'atan', 'atan2', 'atanh', 'ceil', 'comb', 'copysign', 'cos', 'cosh', 'degrees', 'dist', 'e', 'erf', 'erfc', 'exp', 'expm1', 'fabs', 'factorial', 'floor', 'fmod', 'frexp', 'fsum', 'gamma', 'gcd', 'hypot', 'inf', 'isclose', 'isfinite', 'isinf', 'isnan', 'isqrt', 'lcm', 'ldexp', 'lgamma', 'log', 'log10', 'log1p', 'log2', 'modf', 'nan', 'nextafter', 'perm', 'pi', 'pow', 'prod', 'radians', 'remainder', 'sin', 'sinh', 'sqrt', 'tan', 'tanh', 'tau', 'trunc', 'ulp']\n"
     ]
    }
   ],
   "source": [
    "import math\n",
    "conten=dir(math)\n",
    "print(conten)"
   ]
  },
  {
   "cell_type": "code",
   "execution_count": 27,
   "id": "d8f5b628",
   "metadata": {},
   "outputs": [
    {
     "name": "stdout",
     "output_type": "stream",
     "text": [
      "Enter number of test cases2\n",
      "Enter Temperature12\n",
      "Temp is cold\n",
      "Enter Temperature25\n",
      "Temp is hot\n"
     ]
    }
   ],
   "source": [
    "T=int(input(\"Enter number of test cases\"))\n",
    "\n",
    "for i in range(0,T):\n",
    "    c=int(input(\"Enter Temperature\"))\n",
    "    if c<20:\n",
    "        \n",
    "        print(\"Temp is cold\")\n",
    "    else:\n",
    "            print(\"Temp is hot\")\n",
    "    "
   ]
  },
  {
   "cell_type": "code",
   "execution_count": null,
   "id": "656f200c",
   "metadata": {},
   "outputs": [],
   "source": [
    "\n"
   ]
  },
  {
   "cell_type": "code",
   "execution_count": 28,
   "id": "5fc5655e",
   "metadata": {},
   "outputs": [
    {
     "name": "stdout",
     "output_type": "stream",
     "text": [
      "Orignal List [12, 35, 9, 56, 24]\n",
      "After swapping first element [24, 35, 9, 56, 12]\n"
     ]
    }
   ],
   "source": [
    "\n",
    "# Python3 program to swap first\n",
    "# and last element of a list\n",
    "\n",
    "\n",
    "def Swap_list(newlist):\n",
    "    size=len(newlist)\n",
    "    temp=newlist[0]\n",
    "    newlist[0]=newlist[size-1]\n",
    "    newlist[size-1]=temp\n",
    "    return newlist\n",
    "\n",
    "#Driver code\n",
    "\n",
    "newList = [12, 35, 9, 56, 24]\n",
    "print(\"Orignal List\",newList)\n",
    "print(\"After swapping first element\",Swap_list(newList))\n",
    "    "
   ]
  },
  {
   "cell_type": "code",
   "execution_count": 29,
   "id": "ef394e0c",
   "metadata": {},
   "outputs": [],
   "source": [
    "def swap_lists(newlist):\n",
    "    start,*middle,end=newlist\n",
    "    \n",
    "    newlist=[end,*middle,start]\n",
    "    \n",
    "    return newlist\n",
    "\n",
    "#Driver code\n"
   ]
  },
  {
   "cell_type": "code",
   "execution_count": 30,
   "id": "9f39a2da",
   "metadata": {},
   "outputs": [
    {
     "name": "stdout",
     "output_type": "stream",
     "text": [
      "Orignal List [12, 35, 9, 56, 24]\n",
      "After swapping first element [24, 35, 9, 56, 12]\n"
     ]
    }
   ],
   "source": [
    "newList = [12, 35, 9, 56, 24]\n",
    "print(\"Orignal List\",newList)\n",
    "print(\"After swapping first element\",swap_lists(newList))\n",
    "    "
   ]
  },
  {
   "cell_type": "code",
   "execution_count": null,
   "id": "19c0ce7a",
   "metadata": {},
   "outputs": [],
   "source": []
  },
  {
   "cell_type": "code",
   "execution_count": 31,
   "id": "f494b6b8",
   "metadata": {},
   "outputs": [
    {
     "name": "stdout",
     "output_type": "stream",
     "text": [
      "abc\n",
      "bcd\n"
     ]
    }
   ],
   "source": [
    "str=\"abcd\"\n",
    "\n",
    "print(str[:3])\n",
    "print(str[-3:])"
   ]
  },
  {
   "cell_type": "code",
   "execution_count": 32,
   "id": "f6ddb539",
   "metadata": {},
   "outputs": [
    {
     "name": "stdout",
     "output_type": "stream",
     "text": [
      "30\n"
     ]
    }
   ],
   "source": [
    "#addition of two number using lambda\n",
    "\n",
    "add=lambda x,y:x+y\n",
    "\n",
    "print(add(10,20))"
   ]
  },
  {
   "cell_type": "code",
   "execution_count": 33,
   "id": "a401299e",
   "metadata": {},
   "outputs": [
    {
     "name": "stdout",
     "output_type": "stream",
     "text": [
      "orignal string Hello World\n",
      "Reverse string dlroW olleH\n"
     ]
    }
   ],
   "source": [
    "#Reverse String\n",
    "\n",
    "def revers_string(str):\n",
    "    str1=\"\"\n",
    "    for i in str:\n",
    "        str1=i+str1\n",
    "        \n",
    "    return str1\n",
    "\n",
    "str=\"Hello World\"\n",
    "print(\"orignal string\",str)\n",
    "print(\"Reverse string\",revers_string(str))"
   ]
  },
  {
   "cell_type": "code",
   "execution_count": 34,
   "id": "23af2297",
   "metadata": {},
   "outputs": [
    {
     "name": "stdout",
     "output_type": "stream",
     "text": [
      "dlroW olleH\n",
      "Hello World\n"
     ]
    }
   ],
   "source": [
    "# Reverse string using slicing\n",
    "str=\"Hello World\"\n",
    "\n",
    "str1=str[::-1]\n",
    "\n",
    "print(str1)\n",
    "print(str)"
   ]
  },
  {
   "cell_type": "code",
   "execution_count": 35,
   "id": "766e8ad3",
   "metadata": {},
   "outputs": [
    {
     "name": "stdout",
     "output_type": "stream",
     "text": [
      "farh\n"
     ]
    }
   ],
   "source": [
    "# Remove Duplicate element from string\n",
    "\n",
    "Str=\"farah\"\n",
    "t=\"\"\n",
    "for i in Str:\n",
    "    if i in t:\n",
    "        pass\n",
    "    else:\n",
    "        t=t+i\n",
    "print(t)"
   ]
  },
  {
   "cell_type": "code",
   "execution_count": 36,
   "id": "212908d2",
   "metadata": {},
   "outputs": [],
   "source": [
    "#fiboniesseries using generator\n",
    "\n",
    "def fibseries():\n",
    "    a,b=0,1\n",
    "    while a<400:\n",
    "        yield a\n",
    "        a,b=b,a+b\n",
    " \n",
    "    "
   ]
  },
  {
   "cell_type": "code",
   "execution_count": 37,
   "id": "91207b76",
   "metadata": {},
   "outputs": [],
   "source": [
    "fib=fibseries()"
   ]
  },
  {
   "cell_type": "code",
   "execution_count": 38,
   "id": "121836c9",
   "metadata": {},
   "outputs": [
    {
     "name": "stdout",
     "output_type": "stream",
     "text": [
      "0\n",
      "1\n",
      "1\n",
      "2\n",
      "3\n",
      "5\n",
      "8\n",
      "13\n",
      "21\n",
      "34\n",
      "55\n",
      "89\n",
      "144\n",
      "233\n",
      "377\n"
     ]
    }
   ],
   "source": [
    "for i in fib:\n",
    "    print(i)"
   ]
  },
  {
   "cell_type": "code",
   "execution_count": 39,
   "id": "346c249e",
   "metadata": {},
   "outputs": [],
   "source": [
    "#Fibonacci sequence\n",
    "def fibs(n):\n",
    "    a,b=0,1\n",
    "    count=0\n",
    "    while count<n:\n",
    "        print(a)\n",
    "        a,b=b,a+b\n",
    "        count+=1\n",
    "    "
   ]
  },
  {
   "cell_type": "code",
   "execution_count": 40,
   "id": "bd54ff26",
   "metadata": {},
   "outputs": [
    {
     "name": "stdout",
     "output_type": "stream",
     "text": [
      "0\n",
      "1\n",
      "1\n",
      "2\n",
      "3\n",
      "5\n",
      "8\n"
     ]
    }
   ],
   "source": [
    "fibs(7)"
   ]
  },
  {
   "cell_type": "code",
   "execution_count": 41,
   "id": "172e5ed2",
   "metadata": {},
   "outputs": [
    {
     "name": "stdout",
     "output_type": "stream",
     "text": [
      "Enter number23432\n",
      "Given number\n",
      "Reverse number is\n",
      "23432\n",
      "Given number is palindrome\n"
     ]
    }
   ],
   "source": [
    "#reverse integer\n",
    "\n",
    "\n",
    "def Revernum(num):\n",
    "    temp=0\n",
    "    rev=0\n",
    "    if n<10:\n",
    "        return num\n",
    "    else:\n",
    "        while num>0:\n",
    "            temp=num%10\n",
    "            rev=rev*10+temp\n",
    "            num=num//10\n",
    "    return rev\n",
    "\n",
    "n=int(input(\"Enter number\"))\n",
    "print(\"Given number\")\n",
    "revers=Revernum(n)\n",
    "print(\"Reverse number is\")\n",
    "print(revers)\n",
    "if(n==revers):\n",
    "    print(\"Given number is palindrome\")\n",
    "else:\n",
    "    print(\"Given number is not palindrome\")\n",
    "        \n",
    "\n",
    "    \n",
    "\n"
   ]
  },
  {
   "cell_type": "code",
   "execution_count": 42,
   "id": "e7917ee3",
   "metadata": {},
   "outputs": [],
   "source": [
    "#chek string is palindrom or not\n",
    "\n",
    "def strreverse(s):\n",
    "    str1=\"\"\n",
    "    for i in s:\n",
    "        str1=i+str1\n",
    "    return str1\n",
    "\n"
   ]
  },
  {
   "cell_type": "code",
   "execution_count": 43,
   "id": "f1ac16bd",
   "metadata": {},
   "outputs": [
    {
     "name": "stdout",
     "output_type": "stream",
     "text": [
      "Enter stringabcba\n",
      "Given string abcba\n",
      "Reverse string is abcba\n",
      "Given string is palindrom\n"
     ]
    }
   ],
   "source": [
    "data=input(\"Enter string\")\n",
    "print(\"Given string\",data)\n",
    "\n",
    "rev=strreverse(data)\n",
    "\n",
    "print(\"Reverse string is\",rev)\n",
    "\n",
    "if(data==rev):\n",
    "    print(\"Given string is palindrom\")\n",
    "else:\n",
    "     print(\"Given string is not palindrom\")"
   ]
  },
  {
   "cell_type": "code",
   "execution_count": 44,
   "id": "90c7f753",
   "metadata": {},
   "outputs": [],
   "source": [
    "#Error handling with decorator\n",
    "\n",
    "def Erro_handling(fun):\n",
    "    def inner_fun(*args,**kwargs):\n",
    "        try:\n",
    "            fun(*args,**kwargs)\n",
    "        except TypeError:\n",
    "            print(\" wrong datatype.\")\n",
    "    return inner_fun"
   ]
  },
  {
   "cell_type": "code",
   "execution_count": 45,
   "id": "6349772a",
   "metadata": {},
   "outputs": [],
   "source": [
    "\n",
    "@Erro_handling\n",
    "def avgr(a,b):\n",
    "    print((a+b)/2)"
   ]
  },
  {
   "cell_type": "code",
   "execution_count": 46,
   "id": "770f737a",
   "metadata": {},
   "outputs": [
    {
     "name": "stdout",
     "output_type": "stream",
     "text": [
      " wrong datatype.\n"
     ]
    }
   ],
   "source": [
    "avgr(4,'a')"
   ]
  },
  {
   "cell_type": "code",
   "execution_count": 47,
   "id": "07b9eece",
   "metadata": {},
   "outputs": [],
   "source": [
    "##decorator for separating dictionary keys and values\n",
    "def decorator(func):\n",
    "    def innerFun(*args, **kwargs): \n",
    "        func(*args, **kwargs)\n",
    "        keyLis=[]\n",
    "        valueList=[]\n",
    "        for key,value in dict.items():\n",
    "            keyLis.append(key)\n",
    "            valueList.append(value)\n",
    "        print(\"KeyList : \",keyLis)  \n",
    "        print(\"ValueList : \",valueList)\n",
    "    return innerFun\n",
    "  \n",
    "@decorator\n",
    "def dictSeparator(dict):\n",
    "    pass"
   ]
  },
  {
   "cell_type": "code",
   "execution_count": 48,
   "id": "b7df252a",
   "metadata": {},
   "outputs": [
    {
     "name": "stdout",
     "output_type": "stream",
     "text": [
      "KeyList :  ['name', 'Age', 'Salary']\n",
      "ValueList :  ['Farah', 30, 50000]\n"
     ]
    }
   ],
   "source": [
    "dict={'name':'Farah','Age':30,'Salary':50000}\n",
    "dictSeparator(dict)"
   ]
  },
  {
   "cell_type": "code",
   "execution_count": 49,
   "id": "9dff1695",
   "metadata": {},
   "outputs": [
    {
     "data": {
      "text/plain": [
       "'Hello Wold'"
      ]
     },
     "execution_count": 49,
     "metadata": {},
     "output_type": "execute_result"
    }
   ],
   "source": [
    "#change string element\n",
    "\n",
    "string=\"Hello Zold\"\n",
    "\n",
    "li=list(string)\n",
    "#print(li)\n",
    "li[6]=\"W\"\n",
    "#print(li)\n",
    "\"\".join(li)"
   ]
  },
  {
   "cell_type": "code",
   "execution_count": null,
   "id": "c240696d",
   "metadata": {},
   "outputs": [],
   "source": []
  },
  {
   "cell_type": "code",
   "execution_count": null,
   "id": "eaece763",
   "metadata": {},
   "outputs": [],
   "source": []
  },
  {
   "cell_type": "code",
   "execution_count": 50,
   "id": "bb5f8382",
   "metadata": {},
   "outputs": [],
   "source": [
    "def decor(fun):\n",
    "    def inner(*args,**kwargs):\n",
    "        fun(*args,**kwargs)\n",
    "        keyList=[]\n",
    "        valueList=[]\n",
    "        for key,value in dict1.items():\n",
    "            keyList.append(key)\n",
    "            valueList.append(value)\n",
    "        print(\"KeyList\",keyList)\n",
    "        print(\"VAlueList\",valueList)\n",
    "    return inner\n",
    "            \n",
    "@decor\n",
    "def dictSeparator(dict1):\n",
    "    pass\n",
    "\n"
   ]
  },
  {
   "cell_type": "code",
   "execution_count": 51,
   "id": "bfda27f4",
   "metadata": {},
   "outputs": [
    {
     "name": "stdout",
     "output_type": "stream",
     "text": [
      "KeyList ['name', 'Age', 'Salary']\n",
      "VAlueList ['Farah', 30, 50000]\n"
     ]
    }
   ],
   "source": [
    "dict1={'name':'Farah','Age':30,'Salary':50000}\n",
    "\n",
    "dictSeparator(dict1)"
   ]
  },
  {
   "cell_type": "code",
   "execution_count": 52,
   "id": "d57d4774",
   "metadata": {},
   "outputs": [],
   "source": [
    "#sum of pair in array near to zero\n",
    "\n",
    "def closeTozero(arr):\n",
    "    l=len(arr)\n",
    "    left_min=0\n",
    "    right_min=1\n",
    "    sum_min=arr[0]+arr[1]\n",
    "    for i in range(0,l):\n",
    "        for j in range(i+1,l):\n",
    "            sum=arr[i]+arr[j]\n",
    "            if abs(sum_min)>abs(sum):\n",
    "                sum_min=sum\n",
    "                left_min=i\n",
    "                right_min=j\n",
    "    print(\"pair whoes sum near to zero is\",arr[left_min],arr[right_min])\n",
    "    "
   ]
  },
  {
   "cell_type": "code",
   "execution_count": 53,
   "id": "ad9869f5",
   "metadata": {},
   "outputs": [
    {
     "name": "stdout",
     "output_type": "stream",
     "text": [
      "pair whoes sum near to zero is -3 4\n"
     ]
    }
   ],
   "source": [
    "arry=[-3,10,8,-2,4,1]\n",
    "closeTozero(arry)"
   ]
  },
  {
   "cell_type": "code",
   "execution_count": 54,
   "id": "81dae387",
   "metadata": {},
   "outputs": [],
   "source": [
    "def sumTarge(arr1,target):\n",
    "    l=len(arr1)\n",
    "    \n",
    "    for i in range(0,l):\n",
    "        for j in range(i+1,l):\n",
    "            sum=arr1[i]+arr1[j]\n",
    "            #print(sum)\n",
    "            if target==sum:\n",
    "                print(\"pair are:\",arr1[i],arr1[j],\"and their index are\",i,j)"
   ]
  },
  {
   "cell_type": "code",
   "execution_count": 55,
   "id": "3fbfe2a3",
   "metadata": {},
   "outputs": [
    {
     "name": "stdout",
     "output_type": "stream",
     "text": [
      "pair are: 2 7 and their index are 0 3\n",
      "pair are: 4 5 and their index are 2 5\n",
      "pair are: 8 1 and their index are 4 6\n"
     ]
    }
   ],
   "source": [
    "arr=[2,3,4,7,8,5,1]\n",
    "sumTarge(arr,9)"
   ]
  },
  {
   "cell_type": "code",
   "execution_count": null,
   "id": "6ecd5d7c",
   "metadata": {},
   "outputs": [],
   "source": []
  },
  {
   "cell_type": "code",
   "execution_count": 56,
   "id": "4547ef67",
   "metadata": {},
   "outputs": [],
   "source": [
    "def test():\n",
    "    for i in range(10):\n",
    "         yield i"
   ]
  },
  {
   "cell_type": "code",
   "execution_count": 57,
   "id": "f6aca8b1",
   "metadata": {},
   "outputs": [
    {
     "name": "stdout",
     "output_type": "stream",
     "text": [
      "0\n",
      "1\n",
      "2\n",
      "3\n",
      "4\n",
      "5\n",
      "6\n",
      "7\n",
      "8\n",
      "9\n"
     ]
    }
   ],
   "source": [
    "a=test()\n",
    "for i in a:\n",
    "    print(i)"
   ]
  },
  {
   "cell_type": "code",
   "execution_count": null,
   "id": "5025c891",
   "metadata": {},
   "outputs": [],
   "source": []
  },
  {
   "cell_type": "code",
   "execution_count": null,
   "id": "46f558a3",
   "metadata": {},
   "outputs": [],
   "source": [
    "str=[1,2,3,4,5,6,7]\n",
    "print(str[-1:-2])"
   ]
  },
  {
   "cell_type": "code",
   "execution_count": null,
   "id": "067336df",
   "metadata": {},
   "outputs": [],
   "source": [
    "l = [5,6,7,8,9,0]\n",
    "n = 2\n",
    "output = [7,8,9,0,5,6]\n",
    "out=[]\n",
    "size=len(l)\n",
    "\n",
    "\n",
    "for i in range(n,size):\n",
    "    out.append(l[i])\n",
    "for j in range(0,n):\n",
    "    out.append(l[j])\n",
    "print(out)"
   ]
  },
  {
   "cell_type": "code",
   "execution_count": null,
   "id": "29ccd6ab",
   "metadata": {},
   "outputs": [],
   "source": [
    "#sum of digit of number using lambda eg input=1234 required output=10\n",
    "\n",
    "sum_digit=lambda num:0 if num==0 else (num%10)+sum_digit(num//10)\n",
    "print(sum_digit(1234))"
   ]
  },
  {
   "cell_type": "code",
   "execution_count": 60,
   "id": "e66b0d72",
   "metadata": {},
   "outputs": [],
   "source": [
    "#find the prime numbers in given range eg:1 to 10\n",
    "\n",
    "def primepartion(upper_value):  \n",
    "    primeList=[] \n",
    "    #print (\"The Prime Numbers in the range are: \")  \n",
    "    for number in range (1, upper_value + 1):  \n",
    "        if number > 1:  \n",
    "            for i in range (2, number):  \n",
    "                if number % i == 0:  \n",
    "                    break  \n",
    "            else:  \n",
    "                primeList.append(number) \n",
    "    print (primeList)"
   ]
  },
  {
   "cell_type": "code",
   "execution_count": 61,
   "id": "1a0cc134",
   "metadata": {},
   "outputs": [
    {
     "name": "stdout",
     "output_type": "stream",
     "text": [
      "[2, 3, 5, 7, 11]\n"
     ]
    }
   ],
   "source": [
    "primepartion(11)"
   ]
  },
  {
   "cell_type": "code",
   "execution_count": null,
   "id": "031877e6",
   "metadata": {},
   "outputs": [],
   "source": []
  },
  {
   "cell_type": "code",
   "execution_count": null,
   "id": "4717f2bb",
   "metadata": {},
   "outputs": [],
   "source": []
  },
  {
   "cell_type": "code",
   "execution_count": null,
   "id": "603814a6",
   "metadata": {},
   "outputs": [],
   "source": [
    "\n",
    "            \n",
    "            "
   ]
  },
  {
   "cell_type": "code",
   "execution_count": null,
   "id": "26a935cb",
   "metadata": {},
   "outputs": [],
   "source": []
  },
  {
   "cell_type": "code",
   "execution_count": null,
   "id": "b7977016",
   "metadata": {},
   "outputs": [],
   "source": []
  },
  {
   "cell_type": "code",
   "execution_count": null,
   "id": "b07d31a0",
   "metadata": {},
   "outputs": [],
   "source": []
  },
  {
   "cell_type": "code",
   "execution_count": null,
   "id": "8c212a18",
   "metadata": {},
   "outputs": [],
   "source": []
  },
  {
   "cell_type": "code",
   "execution_count": null,
   "id": "a1b9a297",
   "metadata": {},
   "outputs": [],
   "source": []
  },
  {
   "cell_type": "code",
   "execution_count": null,
   "id": "62aeb22d",
   "metadata": {},
   "outputs": [],
   "source": [
    "\"\"\" convert reverse of Binary number to integer like binary value of 50 is 110010 replace 0 to 1 and  1 to 0 i.e 001101 \n",
    "and its integer value is 13 so input=50 required output is=13 \"\"\"\n",
    "a=bin(50)\n",
    "\n",
    "a=a[2:]\n",
    "print(a)\n",
    "\n",
    "out=\"\"\n",
    "\n",
    "for i in a:\n",
    "    if i=='1':\n",
    "        out=out+'0'\n",
    "    else:\n",
    "        out=out+'1'\n",
    "print(out)\n",
    "final=0\n",
    "l=len(out)\n",
    "for i in range(l):\n",
    "    final=final+(int(out[i])*(2**(l-(i+1))))\n",
    "print(final)"
   ]
  },
  {
   "cell_type": "code",
   "execution_count": null,
   "id": "c69ce383",
   "metadata": {},
   "outputs": [],
   "source": []
  },
  {
   "cell_type": "code",
   "execution_count": null,
   "id": "bcc906ad",
   "metadata": {},
   "outputs": [],
   "source": []
  },
  {
   "cell_type": "code",
   "execution_count": null,
   "id": "ba0c72f6",
   "metadata": {},
   "outputs": [],
   "source": []
  },
  {
   "cell_type": "code",
   "execution_count": null,
   "id": "4d161ec9",
   "metadata": {},
   "outputs": [],
   "source": []
  },
  {
   "cell_type": "code",
   "execution_count": null,
   "id": "e31712a3",
   "metadata": {},
   "outputs": [],
   "source": []
  },
  {
   "cell_type": "code",
   "execution_count": null,
   "id": "d7d85673",
   "metadata": {},
   "outputs": [],
   "source": []
  },
  {
   "cell_type": "code",
   "execution_count": null,
   "id": "ae9fc0e8",
   "metadata": {},
   "outputs": [],
   "source": []
  },
  {
   "cell_type": "code",
   "execution_count": null,
   "id": "e592b77e",
   "metadata": {},
   "outputs": [],
   "source": []
  },
  {
   "cell_type": "code",
   "execution_count": null,
   "id": "cc7135f3",
   "metadata": {},
   "outputs": [],
   "source": []
  },
  {
   "cell_type": "code",
   "execution_count": null,
   "id": "fc0b4924",
   "metadata": {},
   "outputs": [],
   "source": []
  },
  {
   "cell_type": "code",
   "execution_count": null,
   "id": "a54053f9",
   "metadata": {},
   "outputs": [],
   "source": []
  },
  {
   "cell_type": "code",
   "execution_count": null,
   "id": "4e8d9508",
   "metadata": {},
   "outputs": [],
   "source": []
  },
  {
   "cell_type": "code",
   "execution_count": null,
   "id": "ba1291a8",
   "metadata": {},
   "outputs": [],
   "source": []
  },
  {
   "cell_type": "code",
   "execution_count": null,
   "id": "af9cf2ec",
   "metadata": {},
   "outputs": [],
   "source": []
  },
  {
   "cell_type": "code",
   "execution_count": null,
   "id": "eb03f196",
   "metadata": {},
   "outputs": [],
   "source": []
  },
  {
   "cell_type": "code",
   "execution_count": null,
   "id": "636f07af",
   "metadata": {},
   "outputs": [],
   "source": []
  },
  {
   "cell_type": "code",
   "execution_count": null,
   "id": "4732ce42",
   "metadata": {},
   "outputs": [],
   "source": []
  },
  {
   "cell_type": "code",
   "execution_count": null,
   "id": "18b8a56b",
   "metadata": {},
   "outputs": [],
   "source": []
  },
  {
   "cell_type": "code",
   "execution_count": null,
   "id": "0de02578",
   "metadata": {},
   "outputs": [],
   "source": []
  },
  {
   "cell_type": "code",
   "execution_count": null,
   "id": "7ecca6eb",
   "metadata": {},
   "outputs": [],
   "source": []
  },
  {
   "cell_type": "code",
   "execution_count": null,
   "id": "296a849b",
   "metadata": {},
   "outputs": [],
   "source": []
  },
  {
   "cell_type": "code",
   "execution_count": null,
   "id": "1fb10cbf",
   "metadata": {},
   "outputs": [],
   "source": []
  },
  {
   "cell_type": "code",
   "execution_count": null,
   "id": "b1829f27",
   "metadata": {},
   "outputs": [],
   "source": []
  },
  {
   "cell_type": "code",
   "execution_count": null,
   "id": "669a830b",
   "metadata": {},
   "outputs": [],
   "source": []
  },
  {
   "cell_type": "code",
   "execution_count": null,
   "id": "02050fa2",
   "metadata": {},
   "outputs": [],
   "source": []
  },
  {
   "cell_type": "code",
   "execution_count": null,
   "id": "e78f3122",
   "metadata": {},
   "outputs": [],
   "source": []
  },
  {
   "cell_type": "code",
   "execution_count": null,
   "id": "66ef0120",
   "metadata": {},
   "outputs": [],
   "source": []
  },
  {
   "cell_type": "code",
   "execution_count": null,
   "id": "6f741299",
   "metadata": {},
   "outputs": [],
   "source": []
  },
  {
   "cell_type": "code",
   "execution_count": null,
   "id": "3391d411",
   "metadata": {},
   "outputs": [],
   "source": []
  },
  {
   "cell_type": "code",
   "execution_count": null,
   "id": "e3b26393",
   "metadata": {},
   "outputs": [],
   "source": []
  },
  {
   "cell_type": "code",
   "execution_count": null,
   "id": "02b189e8",
   "metadata": {},
   "outputs": [],
   "source": []
  },
  {
   "cell_type": "code",
   "execution_count": null,
   "id": "ab53d173",
   "metadata": {},
   "outputs": [],
   "source": []
  },
  {
   "cell_type": "code",
   "execution_count": null,
   "id": "509cc9c5",
   "metadata": {},
   "outputs": [],
   "source": []
  },
  {
   "cell_type": "code",
   "execution_count": null,
   "id": "e86d905b",
   "metadata": {},
   "outputs": [],
   "source": []
  },
  {
   "cell_type": "code",
   "execution_count": null,
   "id": "212b3abd",
   "metadata": {},
   "outputs": [],
   "source": []
  },
  {
   "cell_type": "code",
   "execution_count": null,
   "id": "b44ef43d",
   "metadata": {},
   "outputs": [],
   "source": []
  },
  {
   "cell_type": "code",
   "execution_count": null,
   "id": "6b55c734",
   "metadata": {},
   "outputs": [],
   "source": []
  },
  {
   "cell_type": "code",
   "execution_count": null,
   "id": "0a3aa02b",
   "metadata": {},
   "outputs": [],
   "source": []
  },
  {
   "cell_type": "code",
   "execution_count": null,
   "id": "85e363bc",
   "metadata": {},
   "outputs": [],
   "source": []
  },
  {
   "cell_type": "code",
   "execution_count": null,
   "id": "4f0e20db",
   "metadata": {},
   "outputs": [],
   "source": []
  },
  {
   "cell_type": "code",
   "execution_count": null,
   "id": "a811c72c",
   "metadata": {},
   "outputs": [],
   "source": []
  },
  {
   "cell_type": "code",
   "execution_count": null,
   "id": "23c29ff7",
   "metadata": {},
   "outputs": [],
   "source": []
  },
  {
   "cell_type": "code",
   "execution_count": null,
   "id": "88f40817",
   "metadata": {},
   "outputs": [],
   "source": []
  },
  {
   "cell_type": "code",
   "execution_count": null,
   "id": "04b7c052",
   "metadata": {},
   "outputs": [],
   "source": []
  },
  {
   "cell_type": "code",
   "execution_count": null,
   "id": "e2e7dd0f",
   "metadata": {},
   "outputs": [],
   "source": []
  },
  {
   "cell_type": "code",
   "execution_count": null,
   "id": "4cddeebb",
   "metadata": {},
   "outputs": [],
   "source": []
  },
  {
   "cell_type": "code",
   "execution_count": null,
   "id": "83fc6c59",
   "metadata": {},
   "outputs": [],
   "source": []
  },
  {
   "cell_type": "code",
   "execution_count": null,
   "id": "fea3aec4",
   "metadata": {},
   "outputs": [],
   "source": []
  },
  {
   "cell_type": "code",
   "execution_count": null,
   "id": "5923594f",
   "metadata": {},
   "outputs": [],
   "source": []
  },
  {
   "cell_type": "code",
   "execution_count": null,
   "id": "f3ab2968",
   "metadata": {},
   "outputs": [],
   "source": []
  },
  {
   "cell_type": "code",
   "execution_count": null,
   "id": "19cef623",
   "metadata": {},
   "outputs": [],
   "source": []
  },
  {
   "cell_type": "code",
   "execution_count": null,
   "id": "e2099850",
   "metadata": {},
   "outputs": [],
   "source": []
  },
  {
   "cell_type": "code",
   "execution_count": null,
   "id": "081c9115",
   "metadata": {},
   "outputs": [],
   "source": []
  },
  {
   "cell_type": "code",
   "execution_count": null,
   "id": "645395b9",
   "metadata": {},
   "outputs": [],
   "source": []
  },
  {
   "cell_type": "code",
   "execution_count": null,
   "id": "d166c8a4",
   "metadata": {},
   "outputs": [],
   "source": []
  },
  {
   "cell_type": "code",
   "execution_count": null,
   "id": "b667862d",
   "metadata": {},
   "outputs": [],
   "source": []
  },
  {
   "cell_type": "code",
   "execution_count": null,
   "id": "1fb16c2c",
   "metadata": {},
   "outputs": [],
   "source": []
  },
  {
   "cell_type": "code",
   "execution_count": null,
   "id": "a369cbfe",
   "metadata": {},
   "outputs": [],
   "source": []
  },
  {
   "cell_type": "code",
   "execution_count": null,
   "id": "2a0b5b6c",
   "metadata": {},
   "outputs": [],
   "source": []
  },
  {
   "cell_type": "code",
   "execution_count": null,
   "id": "c22733fd",
   "metadata": {},
   "outputs": [],
   "source": []
  },
  {
   "cell_type": "code",
   "execution_count": null,
   "id": "65da5333",
   "metadata": {},
   "outputs": [],
   "source": []
  },
  {
   "cell_type": "code",
   "execution_count": null,
   "id": "b0e47f92",
   "metadata": {},
   "outputs": [],
   "source": []
  },
  {
   "cell_type": "code",
   "execution_count": null,
   "id": "3730b71b",
   "metadata": {},
   "outputs": [],
   "source": []
  },
  {
   "cell_type": "code",
   "execution_count": null,
   "id": "c481fe6b",
   "metadata": {},
   "outputs": [],
   "source": []
  },
  {
   "cell_type": "code",
   "execution_count": null,
   "id": "3e6f6ed8",
   "metadata": {},
   "outputs": [],
   "source": []
  },
  {
   "cell_type": "code",
   "execution_count": null,
   "id": "ac5f2093",
   "metadata": {},
   "outputs": [],
   "source": []
  },
  {
   "cell_type": "code",
   "execution_count": null,
   "id": "b80ef172",
   "metadata": {},
   "outputs": [],
   "source": []
  },
  {
   "cell_type": "code",
   "execution_count": null,
   "id": "923078d8",
   "metadata": {},
   "outputs": [],
   "source": []
  },
  {
   "cell_type": "code",
   "execution_count": null,
   "id": "fc7b657a",
   "metadata": {},
   "outputs": [],
   "source": []
  },
  {
   "cell_type": "code",
   "execution_count": null,
   "id": "bedd01da",
   "metadata": {},
   "outputs": [],
   "source": []
  },
  {
   "cell_type": "code",
   "execution_count": null,
   "id": "dafdbd5d",
   "metadata": {},
   "outputs": [],
   "source": []
  },
  {
   "cell_type": "code",
   "execution_count": null,
   "id": "6be80e77",
   "metadata": {},
   "outputs": [],
   "source": []
  },
  {
   "cell_type": "code",
   "execution_count": null,
   "id": "c9cbadc2",
   "metadata": {},
   "outputs": [],
   "source": []
  },
  {
   "cell_type": "code",
   "execution_count": null,
   "id": "1250d911",
   "metadata": {},
   "outputs": [],
   "source": []
  },
  {
   "cell_type": "code",
   "execution_count": null,
   "id": "dfce244b",
   "metadata": {},
   "outputs": [],
   "source": []
  },
  {
   "cell_type": "code",
   "execution_count": null,
   "id": "4f08b684",
   "metadata": {},
   "outputs": [],
   "source": []
  },
  {
   "cell_type": "code",
   "execution_count": null,
   "id": "8cf1cc3b",
   "metadata": {},
   "outputs": [],
   "source": []
  },
  {
   "cell_type": "code",
   "execution_count": null,
   "id": "23390244",
   "metadata": {},
   "outputs": [],
   "source": []
  },
  {
   "cell_type": "code",
   "execution_count": null,
   "id": "02fd4826",
   "metadata": {},
   "outputs": [],
   "source": []
  },
  {
   "cell_type": "code",
   "execution_count": null,
   "id": "8d616a62",
   "metadata": {},
   "outputs": [],
   "source": []
  }
 ],
 "metadata": {
  "kernelspec": {
   "display_name": "Python 3 (ipykernel)",
   "language": "python",
   "name": "python3"
  },
  "language_info": {
   "codemirror_mode": {
    "name": "ipython",
    "version": 3
   },
   "file_extension": ".py",
   "mimetype": "text/x-python",
   "name": "python",
   "nbconvert_exporter": "python",
   "pygments_lexer": "ipython3",
   "version": "3.9.7"
  }
 },
 "nbformat": 4,
 "nbformat_minor": 5
}
