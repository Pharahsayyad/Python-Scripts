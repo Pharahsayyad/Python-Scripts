{
 "cells": [
  {
   "cell_type": "code",
   "execution_count": 5,
   "id": "037fb020",
   "metadata": {},
   "outputs": [
    {
     "name": "stdout",
     "output_type": "stream",
     "text": [
      "I am A class\n",
      "I am B class\n",
      "I am Child class\n"
     ]
    },
    {
     "data": {
      "text/plain": [
       "10"
      ]
     },
     "execution_count": 5,
     "metadata": {},
     "output_type": "execute_result"
    }
   ],
   "source": [
    "#MRO example\n",
    "class A:\n",
    "    a=10\n",
    "    print(\"I am A class\")\n",
    "\n",
    "class B:\n",
    "    a=20\n",
    "    print(\"I am B class\")\n",
    "\n",
    "class C(A,B):\n",
    "    \n",
    "    print(\"I am Child class\")\n",
    "    \n",
    "obj1=C()\n",
    "obj1.a\n",
    "\n"
   ]
  },
  {
   "cell_type": "code",
   "execution_count": 6,
   "id": "56aa44ce",
   "metadata": {},
   "outputs": [
    {
     "name": "stdout",
     "output_type": "stream",
     "text": [
      "[1, 2, 3, 4]\n"
     ]
    }
   ],
   "source": [
    "#find unique numbers from list\n",
    "l=[1,2,2,3,3,4,4]\n",
    "\n",
    "unique_list=[]\n",
    "\n",
    "[unique_list.append(i) for i in l if i not in unique_list]\n",
    "print(unique_list)"
   ]
  },
  {
   "cell_type": "code",
   "execution_count": 10,
   "id": "c72b0016",
   "metadata": {},
   "outputs": [],
   "source": [
    "#decorator\n",
    "def decor(fun):\n",
    "    def inner():\n",
    "        out=fun()\n",
    "        upper_out=out.upper()\n",
    "        print(upper_out)\n",
    "    return inner"
   ]
  },
  {
   "cell_type": "code",
   "execution_count": 11,
   "id": "a59a04ee",
   "metadata": {},
   "outputs": [],
   "source": [
    "@decor\n",
    "def fun():\n",
    "    return \"hello world\""
   ]
  },
  {
   "cell_type": "code",
   "execution_count": 12,
   "id": "e1aa91bf",
   "metadata": {},
   "outputs": [
    {
     "name": "stdout",
     "output_type": "stream",
     "text": [
      "HELLO WORLD\n"
     ]
    }
   ],
   "source": [
    "fun()"
   ]
  },
  {
   "cell_type": "code",
   "execution_count": 18,
   "id": "93315c85",
   "metadata": {},
   "outputs": [
    {
     "name": "stdout",
     "output_type": "stream",
     "text": [
      "{'c': 77, 'e': 50, 'a': 34, 'd': 9, 'b': 5}\n",
      "('e', 50)\n"
     ]
    }
   ],
   "source": [
    "\n",
    "in_dict={'a':34, 'b':5, 'c':77, 'd':9, 'e':50}\n",
    "\n",
    "sorted_dict=dict(sorted(in_dict.items(),key=lambda x:x[1],reverse=True))\n",
    "\n",
    "print(sorted_dict)\n",
    "\n",
    "out=list(sorted_dict.items())\n",
    "print(out[1])\n",
    "\n"
   ]
  },
  {
   "cell_type": "code",
   "execution_count": 34,
   "id": "b78e6a8b",
   "metadata": {},
   "outputs": [],
   "source": [
    "def bublesort(arr):\n",
    "    l=len(arr)\n",
    "    temp=0\n",
    "    for i in range(0,l):\n",
    "        for j in range(i+1,l):\n",
    "            if arr[i]>arr[j]:\n",
    "                temp=arr[i]\n",
    "                arr[i]=arr[j]\n",
    "                arr[j]=temp\n",
    "               \n",
    "               \n",
    "    print(arr)\n",
    "    "
   ]
  },
  {
   "cell_type": "code",
   "execution_count": 35,
   "id": "8fe400c9",
   "metadata": {},
   "outputs": [
    {
     "name": "stdout",
     "output_type": "stream",
     "text": [
      "[1, 2, 4, 5, 6, 7, 8]\n"
     ]
    }
   ],
   "source": [
    "arr=[5,6,7,8,4,2,1]\n",
    "bublesort(arr)"
   ]
  },
  {
   "cell_type": "code",
   "execution_count": null,
   "id": "5d86c78e",
   "metadata": {},
   "outputs": [],
   "source": [
    "select empsalary from employee;\n",
    "\n",
    "select emp.name,emp.salry.dept.name from emp\n",
    "inner join dept\n",
    "on emp.id=dept.id"
   ]
  },
  {
   "cell_type": "code",
   "execution_count": 39,
   "id": "fe00dec2",
   "metadata": {},
   "outputs": [
    {
     "data": {
      "text/html": [
       "<div>\n",
       "<style scoped>\n",
       "    .dataframe tbody tr th:only-of-type {\n",
       "        vertical-align: middle;\n",
       "    }\n",
       "\n",
       "    .dataframe tbody tr th {\n",
       "        vertical-align: top;\n",
       "    }\n",
       "\n",
       "    .dataframe thead th {\n",
       "        text-align: right;\n",
       "    }\n",
       "</style>\n",
       "<table border=\"1\" class=\"dataframe\">\n",
       "  <thead>\n",
       "    <tr style=\"text-align: right;\">\n",
       "      <th></th>\n",
       "      <th>name</th>\n",
       "      <th>salary</th>\n",
       "    </tr>\n",
       "  </thead>\n",
       "  <tbody>\n",
       "    <tr>\n",
       "      <th>0</th>\n",
       "      <td>farah</td>\n",
       "      <td>1000</td>\n",
       "    </tr>\n",
       "    <tr>\n",
       "      <th>1</th>\n",
       "      <td>juvi</td>\n",
       "      <td>3333</td>\n",
       "    </tr>\n",
       "  </tbody>\n",
       "</table>\n",
       "</div>"
      ],
      "text/plain": [
       "    name  salary\n",
       "0  farah    1000\n",
       "1   juvi    3333"
      ]
     },
     "execution_count": 39,
     "metadata": {},
     "output_type": "execute_result"
    }
   ],
   "source": [
    "#create dataset from dictionary\n",
    "import pandas as pd\n",
    "\n",
    "\n",
    "in_dict={'name':['farah','juvi'],\n",
    "            'salary':[1000,3333]}\n",
    "df=pd.DataFrame(in_dict)\n",
    "df"
   ]
  },
  {
   "cell_type": "code",
   "execution_count": 8,
   "id": "4a85e9cd",
   "metadata": {},
   "outputs": [
    {
     "name": "stdout",
     "output_type": "stream",
     "text": [
      "{'c': 77, 'e': 50, 'a': 34, 'd': 9, 'b': 5}\n",
      "('e', 50)\n"
     ]
    }
   ],
   "source": [
    "#find second highest key value pair from dictionary\n",
    "in_dict={'a':34, 'b':5, 'c':77, 'd':9, 'e':50}\n",
    "\n",
    "sorte_dict=dict(sorted(in_dict.items(),key=lambda x:x[1],reverse=True))\n",
    "print(sorte_dict)\n",
    "\n",
    "out=list(sorte_dict.items())\n",
    "key_out=list(sorte_dict.keys())\n",
    "value_out=list(sorte_dict.values())\n",
    "#print(key_out)\n",
    "#print(value_out)\n",
    "print(out[1])"
   ]
  }
 ],
 "metadata": {
  "kernelspec": {
   "display_name": "Python 3 (ipykernel)",
   "language": "python",
   "name": "python3"
  },
  "language_info": {
   "codemirror_mode": {
    "name": "ipython",
    "version": 3
   },
   "file_extension": ".py",
   "mimetype": "text/x-python",
   "name": "python",
   "nbconvert_exporter": "python",
   "pygments_lexer": "ipython3",
   "version": "3.9.7"
  }
 },
 "nbformat": 4,
 "nbformat_minor": 5
}
