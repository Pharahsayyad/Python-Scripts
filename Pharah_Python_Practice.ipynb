{
 "cells": [
  {
   "cell_type": "code",
   "execution_count": 42,
   "id": "b2c5428a",
   "metadata": {},
   "outputs": [
    {
     "name": "stdout",
     "output_type": "stream",
     "text": [
      "Ali is 23 years old and height is 5.8 ft.\n",
      "Hamza is 29 years old and height is 5.9 ft.\n",
      "Usman is 32 years old and height is 6.1 ft.\n"
     ]
    }
   ],
   "source": [
    "A = [\"Ali\",\"Hamza\",\"Usman\"]\n",
    "B = [ [ 23, 29, 32], [ 5.8, 5.9, 6.1]]\n",
    "l=len(A)\n",
    "for i in range(0,l):\n",
    "    attr=[item[i] for item in B]\n",
    "    \n",
    "    print(f\"{A[i]} is {attr[0]} years old and height is {attr[1]} ft.\")"
   ]
  },
  {
   "cell_type": "code",
   "execution_count": 22,
   "id": "773b20ec",
   "metadata": {},
   "outputs": [
    {
     "name": "stdout",
     "output_type": "stream",
     "text": [
      "List without duplicate elements ['Apple', 'Banana', 'Kiwi']\n"
     ]
    }
   ],
   "source": [
    "sList = [\"Apple\",\"Banana\",\"Apple\",\"Kiwi\"]\n",
    "oList = []\n",
    "[oList.append(i) for i in sList if i not in oList]\n",
    "print(\"List without duplicate elements\",oList)   "
   ]
  },
  {
   "cell_type": "code",
   "execution_count": 36,
   "id": "665cba35",
   "metadata": {},
   "outputs": [
    {
     "name": "stdout",
     "output_type": "stream",
     "text": [
      "username : user1 and company: capgeminie.com\n",
      "username : user2 and company: Tcs.com\n",
      "username : user3 and company: mindtech.com\n"
     ]
    }
   ],
   "source": [
    "EmpList=  ['user1@capgeminie.com','user2@Tcs.com','user3@mindtech.com']  \n",
    "uList=list(map(lambda x:x.split('@')[0],EmpList))\n",
    "compList=list(map(lambda x:x.split('@')[1],EmpList))\n",
    "for i in range(0, len(uList)):\n",
    "    print(f\"username : {uList[i]} and company: {compList[i]}\")"
   ]
  },
  {
   "cell_type": "code",
   "execution_count": 42,
   "id": "b6f73e07",
   "metadata": {},
   "outputs": [
    {
     "name": "stdout",
     "output_type": "stream",
     "text": [
      "[35, 78, 55]\n"
     ]
    }
   ],
   "source": [
    "listA=[1,3,6,78,35,55]  \n",
    "listB=[12,24,35,55,88,78,155]\n",
    "\n",
    "def listIntersect(listA, listB):\n",
    "    return list(set(listA) & set(listB))\n",
    "print(listIntersect(listA, listB))"
   ]
  },
  {
   "cell_type": "code",
   "execution_count": 4,
   "id": "c8b221f5",
   "metadata": {},
   "outputs": [
    {
     "name": "stdout",
     "output_type": "stream",
     "text": [
      "55\n"
     ]
    }
   ],
   "source": [
    "def sum_recursive (start,end):\n",
    "    if end<=start:\n",
    "        return end\n",
    "    else:\n",
    "        return end+sum_recursive(start,end-1)\n",
    "    \n",
    "print (sum_recursive(1,10))"
   ]
  },
  {
   "cell_type": "code",
   "execution_count": 14,
   "id": "e7c112d6",
   "metadata": {},
   "outputs": [
    {
     "name": "stdout",
     "output_type": "stream",
     "text": [
      "Interscection of listA and ListB is: [78, 35, 55]\n"
     ]
    }
   ],
   "source": [
    "listA=[1,3,6,78,35,55]  \n",
    "listB=[12,24,35,55,88,78,155]\n",
    "\n",
    "list3=[value for value in listA if value in listB]\n",
    "print(\"Interscection of listA and ListB is:\",list3)"
   ]
  },
  {
   "cell_type": "code",
   "execution_count": 24,
   "id": "09b4c759",
   "metadata": {},
   "outputs": [
    {
     "name": "stdout",
     "output_type": "stream",
     "text": [
      "['apple', 'dates', 'apple', 'etc', 'apple', 'dates', 'dates', 'cherry', 'apple', 'etc', 'etc', 'cherry', 'apple', 'dates', 'apple', 'etc', 'banana', 'etc', 'apple', 'etc', 'banana', 'etc', 'etc', 'dates', 'banana', 'dates', 'dates', 'dates', 'banana', 'dates', 'apple', 'banana', 'etc', 'apple', 'banana', 'apple', 'banana', 'etc', 'apple', 'dates', 'apple', 'apple', 'banana', 'apple', 'dates', 'apple', 'apple', 'banana', 'dates', 'dates', 'apple', 'etc', 'etc', 'cherry', 'cherry', 'cherry', 'etc', 'banana', 'apple', 'dates', 'cherry', 'apple', 'apple', 'banana', 'etc', 'cherry', 'etc', 'apple', 'banana', 'apple', 'apple', 'cherry', 'etc', 'banana', 'apple', 'dates', 'banana', 'cherry', 'banana', 'banana', 'etc', 'dates', 'apple', 'dates', 'etc', 'apple', 'apple', 'cherry', 'apple', 'banana', 'banana', 'cherry', 'etc', 'banana', 'banana', 'apple', 'cherry', 'banana', 'cherry', 'apple']\n",
      "['apple', 'dates', 'etc', 'cherry', 'banana']\n"
     ]
    }
   ],
   "source": [
    "import random \n",
    "word_list = ['apple','banana','cherry','dates','etc'] \n",
    "list_100=[]\n",
    "res_list=[]\n",
    "for i in range(100):\n",
    "    list_100.append(random.choice(word_list))\n",
    "print(list_100)\n",
    "\n",
    "l=[res_list.append(i) for i in list_100 if i not in res_list]\n",
    "print(res_list)"
   ]
  },
  {
   "cell_type": "code",
   "execution_count": 38,
   "id": "b3cdd4b5",
   "metadata": {},
   "outputs": [
    {
     "name": "stdout",
     "output_type": "stream",
     "text": [
      "username is user1 comapny name is capgeminie.com \n",
      "username is user2 comapny name is Tcs.com \n",
      "username is user3 comapny name is mindtech.com \n"
     ]
    }
   ],
   "source": [
    "EmpList=  ['user1@capgeminie.com','user2@Tcs.com','user3@mindtech.com']\n",
    "p=[]\n",
    "for i in EmpList:\n",
    "    p=i.split(\"@\")\n",
    "    print(f\"username is {p[0]} comapny name is {p[1]} \")\n",
    "   \n",
    "\n",
    "    "
   ]
  },
  {
   "cell_type": "code",
   "execution_count": 1,
   "id": "706715b5",
   "metadata": {},
   "outputs": [
    {
     "name": "stdout",
     "output_type": "stream",
     "text": [
      "file name is:abc\n",
      "file name is:acc\n",
      "file name is:avb\n"
     ]
    }
   ],
   "source": [
    "files = ['abc/xyz/inbound/abc.txt', 'abc/add/acc.txt','abc/avb.txt']\n",
    "p=[]\n",
    "q=[]\n",
    "for i in files:\n",
    "    p.append(i.split('/'))\n",
    "\n",
    "for item in p:\n",
    "   \n",
    "    for j in item:\n",
    "        if str(j).endswith('.txt'):\n",
    "            q.append(j)\n",
    "\n",
    "\n",
    "for items in q:\n",
    "    print(f\"file name is:{items.split('.')[0]}\")\n",
    "    \n"
   ]
  },
  {
   "cell_type": "code",
   "execution_count": 3,
   "id": "d8eb9b0e",
   "metadata": {},
   "outputs": [
    {
     "name": "stdout",
     "output_type": "stream",
     "text": [
      "['', '%aditya', 'aware', '%dinesh', '']\n"
     ]
    }
   ],
   "source": [
    "a = '%%%aditya%%aware%%%dinesh%%'\n",
    "b = 'aditya%aware'\n",
    "\n",
    "p=[]\n",
    "\n",
    "p=a.split('%%')\n",
    "print(p)\n",
    "    "
   ]
  },
  {
   "cell_type": "code",
   "execution_count": 4,
   "id": "5ff0e96d",
   "metadata": {},
   "outputs": [
    {
     "name": "stdout",
     "output_type": "stream",
     "text": [
      "[6, 15, 24]\n"
     ]
    }
   ],
   "source": [
    "array = [\n",
    "   [1, 2, 3],\n",
    "   [4, 5, 6],\n",
    "   [7, 8, 9]\n",
    "]\n",
    "\n",
    "result=list(map(sum,array))\n",
    "print(result)"
   ]
  },
  {
   "cell_type": "code",
   "execution_count": 1,
   "id": "913daae0",
   "metadata": {},
   "outputs": [
    {
     "name": "stdout",
     "output_type": "stream",
     "text": [
      "[12, 24, 88, 78]\n"
     ]
    }
   ],
   "source": [
    "#find even number list using filter\n",
    "listB=[12,24,35,55,88,78,155]\n",
    "def even(no):\n",
    "    if no%2==0:\n",
    "        return True\n",
    "    \n",
    "evenlist=list(filter(even,listB))\n",
    "print(evenlist)\n",
    "        "
   ]
  },
  {
   "cell_type": "code",
   "execution_count": 10,
   "id": "4d2cdc25",
   "metadata": {},
   "outputs": [
    {
     "data": {
      "text/plain": [
       "[12, 24, 88, 78]"
      ]
     },
     "execution_count": 10,
     "metadata": {},
     "output_type": "execute_result"
    }
   ],
   "source": [
    "listB=[12,24,35,55,88,78,155]\n",
    "list(filter(lambda x:x%2==0,listB))"
   ]
  },
  {
   "cell_type": "code",
   "execution_count": 11,
   "id": "3c83eb41",
   "metadata": {},
   "outputs": [
    {
     "data": {
      "text/plain": [
       "[88, 78, 155]"
      ]
     },
     "execution_count": 11,
     "metadata": {},
     "output_type": "execute_result"
    }
   ],
   "source": [
    "listB=[12,24,35,55,88,78,155]\n",
    "list(filter(lambda x:x>60,listB))"
   ]
  },
  {
   "cell_type": "code",
   "execution_count": 14,
   "id": "79cce502",
   "metadata": {},
   "outputs": [
    {
     "data": {
      "text/plain": [
       "['lenova', 'Accer']"
      ]
     },
     "execution_count": 14,
     "metadata": {},
     "output_type": "execute_result"
    }
   ],
   "source": [
    "laptops={\"lenova\":45000,\"Hp\":60000,\"Accer\":35000,\"macbook\":120000}\n",
    "\n",
    "list(filter(lambda x:laptops[x]<50000,laptops))"
   ]
  },
  {
   "cell_type": "code",
   "execution_count": 6,
   "id": "c1cf55b6",
   "metadata": {},
   "outputs": [],
   "source": [
    "#find the sum of element nearest to zero\n",
    "\n",
    "def closestetToZero(arr):\n",
    "    l=len(arr)\n",
    "    if l<2:\n",
    "        print(\"Invalid array\")\n",
    "        \n",
    "    left_min=0\n",
    "    right_min=1\n",
    "    sum_min=arr[0]+arr[1]\n",
    "    #print(sum_min)\n",
    "    for i in range(0,l):\n",
    "        for j in range(i+1,l):\n",
    "            sum1=arr[i]+arr[j]\n",
    "            #print(sum1)\n",
    "            if abs(sum_min)>abs(sum1):\n",
    "                sum_min=sum1\n",
    "                left_min=i\n",
    "                right_min=j\n",
    "    \n",
    "    print(arr[left_min],arr[right_min])\n",
    "\n"
   ]
  },
  {
   "cell_type": "code",
   "execution_count": 7,
   "id": "9b085b7c",
   "metadata": {},
   "outputs": [
    {
     "name": "stdout",
     "output_type": "stream",
     "text": [
      "-3 4\n"
     ]
    }
   ],
   "source": [
    "arry=[-3,10,8,-2,4,1]\n",
    "\n",
    "closestetToZero(arry)\n"
   ]
  },
  {
   "cell_type": "code",
   "execution_count": 61,
   "id": "46549ba9",
   "metadata": {},
   "outputs": [],
   "source": [
    "def closTozero(arr1):\n",
    "    le=len(arr1)\n",
    "    l1_min=0\n",
    "    r1_min=1\n",
    "    sum_min1=arr1[0]+arr1[1]\n",
    "    for i in range(0,le):\n",
    "        for j in range(i+1,le):\n",
    "            sum1=arr1[i]+arr1[j]\n",
    "            if abs(sum_min1)> abs(sum1):\n",
    "                sum_min1=sum1\n",
    "                l1_min=i\n",
    "                r1_min=j\n",
    "    print(\"pair whoese sum near to zeroo is:\",\"(\",arr1[l1_min],arr1[r1_min],\")\")"
   ]
  },
  {
   "cell_type": "code",
   "execution_count": 62,
   "id": "4fb9b4ba",
   "metadata": {},
   "outputs": [
    {
     "name": "stdout",
     "output_type": "stream",
     "text": [
      "pair whoese sum near to zeroo is: ( 1 -1 )\n"
     ]
    }
   ],
   "source": [
    "arry=[-3,10,8,-2,4,1,-1]\n",
    "closTozero(arry)"
   ]
  },
  {
   "cell_type": "code",
   "execution_count": 7,
   "id": "1171a785",
   "metadata": {},
   "outputs": [],
   "source": [
    "#fing sum of element in array equat to target\n",
    "\n",
    "def sumTarget(arr,target):\n",
    "    l=len(arr)\n",
    "    for i in range(0,l):\n",
    "        for j in range(i+1,l):\n",
    "            sum=arr[i]+arr[j]\n",
    "            if target==sum:\n",
    "                print(\"pair whoese sum is equal to target is:(\",arr[i],arr[j],\")\",\"and their index are\",\"(\",i,j,\")\")\n",
    "                "
   ]
  },
  {
   "cell_type": "code",
   "execution_count": 8,
   "id": "74459173",
   "metadata": {},
   "outputs": [
    {
     "name": "stdout",
     "output_type": "stream",
     "text": [
      "pair whoese sum is equal to target is:( 1 8 ) and their index are ( 0 7 )\n",
      "pair whoese sum is equal to target is:( 2 7 ) and their index are ( 1 6 )\n",
      "pair whoese sum is equal to target is:( 3 6 ) and their index are ( 2 5 )\n",
      "pair whoese sum is equal to target is:( 4 5 ) and their index are ( 3 4 )\n"
     ]
    }
   ],
   "source": [
    "arr=[1,2,3,4,5,6,7,8]\n",
    "target=9\n",
    "\n",
    "sumTarget(arr,target)"
   ]
  },
  {
   "cell_type": "code",
   "execution_count": 12,
   "id": "f2b91d88",
   "metadata": {},
   "outputs": [
    {
     "name": "stdout",
     "output_type": "stream",
     "text": [
      "[2, 3, 4, 5, 6]\n"
     ]
    }
   ],
   "source": [
    "list1=[2,3,4,5,6,3,4,2]\n",
    "\n",
    "\n",
    "[orignal.append(i) for i in list1 if i not in orignal]\n",
    "\n",
    "print(orignal)"
   ]
  },
  {
   "cell_type": "code",
   "execution_count": 17,
   "id": "eb033d11",
   "metadata": {},
   "outputs": [
    {
     "name": "stdout",
     "output_type": "stream",
     "text": [
      "[2, 4, 6, 4, 2]\n"
     ]
    }
   ],
   "source": [
    "list1=[2,3,4,5,6,3,4,2]\n",
    "even=[]\n",
    "[even.append(i) for i in list1 if i%2==0]\n",
    "print(even)"
   ]
  },
  {
   "cell_type": "code",
   "execution_count": 19,
   "id": "ed5dc2bd",
   "metadata": {},
   "outputs": [
    {
     "name": "stdout",
     "output_type": "stream",
     "text": [
      "dlrow olleh\n"
     ]
    }
   ],
   "source": [
    "str=\"hello world\"\n",
    "str1=\"\"\n",
    "\n",
    "for i in str:\n",
    "    str1=i+str1\n",
    "print(str1)"
   ]
  },
  {
   "cell_type": "code",
   "execution_count": 23,
   "id": "77f02cd4",
   "metadata": {},
   "outputs": [
    {
     "name": "stdout",
     "output_type": "stream",
     "text": [
      "[0, 2, 4, 6, 8, 10, 12, 14, 16, 18, 20]\n"
     ]
    }
   ],
   "source": [
    "even=[]\n",
    "\n",
    "[even.append(i) for i in range (0,50) if i%2==0]\n",
    "print(even[:11])"
   ]
  },
  {
   "cell_type": "code",
   "execution_count": 48,
   "id": "348f531e",
   "metadata": {},
   "outputs": [
    {
     "name": "stdout",
     "output_type": "stream",
     "text": [
      "hAPPY bIRTHDAY TO YOU #$\n"
     ]
    }
   ],
   "source": [
    "str=\"Happy Birthday to you #$\"\n",
    "#up=str.upper()\n",
    "#print(up)\n",
    "out=\"\"\n",
    "for i in str:\n",
    "    if i.islower():\n",
    "        out=out+i.upper()\n",
    "    else:\n",
    "        out=out+i.lower()\n",
    "print(out)\n",
    "   "
   ]
  },
  {
   "cell_type": "code",
   "execution_count": 75,
   "id": "a039e06a",
   "metadata": {},
   "outputs": [],
   "source": [
    "#generator\n",
    "\n",
    "def fib(limit):\n",
    "    a,b=0,1\n",
    "    \n",
    "    while a < limit:\n",
    "        yield a\n",
    "        a,b=b,a+b\n",
    "       \n"
   ]
  },
  {
   "cell_type": "code",
   "execution_count": 76,
   "id": "3b95615b",
   "metadata": {},
   "outputs": [
    {
     "name": "stdout",
     "output_type": "stream",
     "text": [
      "0\n",
      "1\n",
      "1\n",
      "2\n",
      "3\n"
     ]
    }
   ],
   "source": [
    "x=fib(5)\n",
    "\n",
    "for i in x:\n",
    "    print(i)"
   ]
  },
  {
   "cell_type": "code",
   "execution_count": 84,
   "id": "6deca4b9",
   "metadata": {},
   "outputs": [
    {
     "data": {
      "text/plain": [
       "[4, 9, 16, 25, 36, 9, 16, 4]"
      ]
     },
     "execution_count": 84,
     "metadata": {},
     "output_type": "execute_result"
    }
   ],
   "source": [
    "list1=[2,3,4,5,6,3,4,2]\n",
    "[i for i in list1 if i%2==0]\n",
    "list(map(lambda x:x**2,list1))\n",
    "#list(filter( lambda x: x%2!=0,list1))"
   ]
  },
  {
   "cell_type": "code",
   "execution_count": 87,
   "id": "6fccf274",
   "metadata": {},
   "outputs": [],
   "source": [
    "def fact(n):\n",
    "    if n==1:\n",
    "        return n\n",
    "    else:\n",
    "        return (n*fact(n-1))\n"
   ]
  },
  {
   "cell_type": "code",
   "execution_count": 90,
   "id": "89d9cfe1",
   "metadata": {},
   "outputs": [
    {
     "name": "stdout",
     "output_type": "stream",
     "text": [
      "6\n"
     ]
    }
   ],
   "source": [
    "fb=fact(3)\n",
    "print(fb)"
   ]
  },
  {
   "cell_type": "code",
   "execution_count": 97,
   "id": "bd599cbf",
   "metadata": {},
   "outputs": [],
   "source": [
    "def addf(start,end):\n",
    "    if end==start:\n",
    "        return end\n",
    "    else:\n",
    "        return (end+addf(start,end-start))"
   ]
  },
  {
   "cell_type": "code",
   "execution_count": 98,
   "id": "45eff7e2",
   "metadata": {},
   "outputs": [
    {
     "name": "stdout",
     "output_type": "stream",
     "text": [
      "55\n"
     ]
    }
   ],
   "source": [
    "out=addf(1,10)\n",
    "print(out)"
   ]
  },
  {
   "cell_type": "code",
   "execution_count": 4,
   "id": "bae860cd",
   "metadata": {},
   "outputs": [],
   "source": [
    "def decor(fun):\n",
    "    def inner():\n",
    "        result=addition()\n",
    "        num3=int(input(\"please end 3 no\"))\n",
    "        result=result+num3\n",
    "        return result\n",
    "    return inner\n",
    "        \n",
    "\n",
    "\n",
    "def addition():\n",
    "    num1=int(input(\"please enter no:\"))\n",
    "    num2=int(input(\"please end no2\"))\n",
    "    result=num1+num2\n",
    "    return result\n"
   ]
  },
  {
   "cell_type": "code",
   "execution_count": 5,
   "id": "c461e92f",
   "metadata": {},
   "outputs": [
    {
     "name": "stdout",
     "output_type": "stream",
     "text": [
      "please enter no:2\n",
      "please end no23\n",
      "please end 3 no3\n"
     ]
    },
    {
     "data": {
      "text/plain": [
       "8"
      ]
     },
     "execution_count": 5,
     "metadata": {},
     "output_type": "execute_result"
    }
   ],
   "source": [
    "ad=decor(addition)\n",
    "ad()"
   ]
  },
  {
   "cell_type": "code",
   "execution_count": 1,
   "id": "699bd46e",
   "metadata": {},
   "outputs": [
    {
     "name": "stdout",
     "output_type": "stream",
     "text": [
      "[]\n"
     ]
    }
   ],
   "source": [
    "str=[1,2,3,4,5,6,7]\n",
    "print(str[-1:-2])"
   ]
  },
  {
   "cell_type": "code",
   "execution_count": 1,
   "id": "70c7520c",
   "metadata": {},
   "outputs": [
    {
     "name": "stdout",
     "output_type": "stream",
     "text": [
      "[python]*2\n"
     ]
    }
   ],
   "source": [
    "print(\"[python]*2\")"
   ]
  },
  {
   "cell_type": "code",
   "execution_count": 22,
   "id": "5316775d",
   "metadata": {},
   "outputs": [],
   "source": [
    "def prime(num):\n",
    "    flag=False\n",
    "    if num==1:\n",
    "        print(num,\"is not prime number\")\n",
    "    elif num>1:\n",
    "        for i in range(2,num):\n",
    "            if num%i==0:\n",
    "                flag=True\n",
    "                break\n",
    "    if flag:\n",
    "        print(num,\"is not Prime number\")\n",
    "    else:\n",
    "        print(num,\" is prime number \")\n",
    "            "
   ]
  },
  {
   "cell_type": "code",
   "execution_count": 23,
   "id": "15206066",
   "metadata": {},
   "outputs": [
    {
     "name": "stdout",
     "output_type": "stream",
     "text": [
      "7  is prime number \n"
     ]
    }
   ],
   "source": [
    "prime(7)"
   ]
  },
  {
   "cell_type": "code",
   "execution_count": 2,
   "id": "050e05bb",
   "metadata": {},
   "outputs": [
    {
     "name": "stdout",
     "output_type": "stream",
     "text": [
      "['88', '99']\n",
      "['Sachin', 'Dhoni']\n"
     ]
    }
   ],
   "source": [
    "import re\n",
    "\n",
    "str1=\"Sachin score is 88 and Dhoni score is 99\"\n",
    "\n",
    "score=re.findall('\\d{2}',str1)\n",
    "name=re.findall('([A-Z][a-z]*)',str1)\n",
    "print(score)\n",
    "print(name)"
   ]
  },
  {
   "cell_type": "code",
   "execution_count": 8,
   "id": "52ab7ac8",
   "metadata": {},
   "outputs": [
    {
     "name": "stdout",
     "output_type": "stream",
     "text": [
      "<re.Match object; span=(0, 4), match='Geek'>\n"
     ]
    }
   ],
   "source": [
    "s = 'GeeksforGeeks: A computer science portal for geeks'\n",
    "\n",
    "\n"
   ]
  },
  {
   "cell_type": "code",
   "execution_count": 16,
   "id": "74e16ac6",
   "metadata": {},
   "outputs": [
    {
     "name": "stdout",
     "output_type": "stream",
     "text": [
      "[2, 4, 6, 8, 10, 12, 14, 16, 18, 20]\n"
     ]
    }
   ],
   "source": [
    "even=[i for i in range(1,50) if i%2==0]\n",
    "print(even[:10])"
   ]
  },
  {
   "cell_type": "code",
   "execution_count": 22,
   "id": "2867bd5d",
   "metadata": {},
   "outputs": [
    {
     "name": "stdout",
     "output_type": "stream",
     "text": [
      "FARAH\n",
      "FARAH\n",
      "haraf\n",
      "\n"
     ]
    }
   ],
   "source": [
    "str1=\"f3a2r2ah\"\n",
    "print(str1.upper())\n",
    "print(str1.swapcase())\n",
    "print(str1[::-1])\n",
    "print(str1[-1:-4])\n",
    "for i in str1:\n",
    "    if i.isalpha():"
   ]
  },
  {
   "cell_type": "code",
   "execution_count": 3,
   "id": "4a21a6f0",
   "metadata": {},
   "outputs": [
    {
     "data": {
      "text/plain": [
       "['sachin', 'swara', 'swati']"
      ]
     },
     "execution_count": 3,
     "metadata": {},
     "output_type": "execute_result"
    }
   ],
   "source": [
    "list1=['sachin','swara','Rahul','Tina','swati']\n",
    "\n",
    "list(filter(lambda x:str(x).startswith('s'),list1))"
   ]
  },
  {
   "cell_type": "code",
   "execution_count": null,
   "id": "fbde1c74",
   "metadata": {},
   "outputs": [],
   "source": [
    "S='aaabbbccaabb'\n",
    "#Output ='3a3b2c2a2b'\n",
    "\n",
    "l=len(S)\n",
    "\n",
    "\n",
    "output=\" \"\n",
    "count=0\n",
    "char=S[0]\n",
    "\n",
    "for i in S:\n",
    "    if i==char:\n",
    "        count+=1\n",
    "    else:\n",
    "        output=output+str(count)+char\n",
    "       \n",
    "        count=1\n",
    "        char=i\n",
    "output=output+str(count)+char\n",
    "print(output)\n"
   ]
  },
  {
   "cell_type": "code",
   "execution_count": 3,
   "id": "4699ee32",
   "metadata": {},
   "outputs": [
    {
     "name": "stdout",
     "output_type": "stream",
     "text": [
      "[2, 3, 4, 5, 6]\n"
     ]
    }
   ],
   "source": [
    "list1=[2,3,4,5,6,3,4,2]\n",
    "#s=set(list1)\n",
    "print(list(set(list1)))"
   ]
  },
  {
   "cell_type": "code",
   "execution_count": 15,
   "id": "ce717f85",
   "metadata": {},
   "outputs": [
    {
     "name": "stdout",
     "output_type": "stream",
     "text": [
      "much.very.program.this.like.i\n"
     ]
    }
   ],
   "source": [
    "s=\"i.like.this.program.very.much\"\n",
    "l=[]\n",
    "\n",
    "string=s.split(\".\")[::-1]\n",
    "for i in string:\n",
    "    l.append(i)\n",
    "print(\".\".join(l))\n",
    "\n"
   ]
  },
  {
   "cell_type": "code",
   "execution_count": 16,
   "id": "5d0e6fc7",
   "metadata": {},
   "outputs": [
    {
     "name": "stdout",
     "output_type": "stream",
     "text": [
      "[2, 4, 3]\n",
      "[8, 7, 6]\n",
      "1119\n",
      "[9, 1, 1, 1]\n",
      "9\n"
     ]
    }
   ],
   "source": [
    "#output=243+876=1119 out=[9,1,1,1]\n",
    "l1=[3,4,2]\n",
    "l3=[6,7,8]\n",
    "l2=l1[::-1]\n",
    "l4=l3[::-1]\n",
    "total=0\n",
    "str1=\"\"\n",
    "str2=\"\"\n",
    "print(l2)\n",
    "print(l4)\n",
    "for i in l2:\n",
    "    str1=str1+str(i)\n",
    "for j in l4:\n",
    "    str2=str2+str(j)\n",
    "total=int(str1)+int(str2)\n",
    "print(total)\n",
    "\n",
    "out=[]\n",
    "max1=0\n",
    "while total>0:\n",
    "    digit=total%10\n",
    "    if(digit>max1):\n",
    "        max1=digit\n",
    "    \n",
    "    out.append(digit)\n",
    "    total=total//10\n",
    "print(out)\n",
    "print(max1)\n",
    "\n"
   ]
  },
  {
   "cell_type": "code",
   "execution_count": 3,
   "id": "55cb83be",
   "metadata": {},
   "outputs": [
    {
     "name": "stdout",
     "output_type": "stream",
     "text": [
      "{'Delhi': 71, 'Mumbai': 42}\n"
     ]
    }
   ],
   "source": [
    "l1= ['Delhi', 71, 'Mumbai', 42]\n",
    "res_dict={l1[i]:l1[i+1] for i in range(0,len(l1),2)}\n",
    "print(res_dict)"
   ]
  },
  {
   "cell_type": "code",
   "execution_count": null,
   "id": "e63a8eaa",
   "metadata": {},
   "outputs": [],
   "source": []
  }
 ],
 "metadata": {
  "kernelspec": {
   "display_name": "Python 3 (ipykernel)",
   "language": "python",
   "name": "python3"
  },
  "language_info": {
   "codemirror_mode": {
    "name": "ipython",
    "version": 3
   },
   "file_extension": ".py",
   "mimetype": "text/x-python",
   "name": "python",
   "nbconvert_exporter": "python",
   "pygments_lexer": "ipython3",
   "version": "3.9.7"
  }
 },
 "nbformat": 4,
 "nbformat_minor": 5
}
